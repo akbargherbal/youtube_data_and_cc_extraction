{
 "cells": [
  {
   "cell_type": "markdown",
   "id": "852b0534-f57f-491c-a293-640c00ceb373",
   "metadata": {},
   "source": [
    "# IMPORTANT BUG FIX:\n",
    "## PytTube Captions Bug Fix;\n",
    "### Replace code in captions.py with the code in NEW_captions.\n",
    "### Navigate to the path of path/to/pytube/captions.py in the packages folder (Anaconda in GCP case) and replace the code in that file with the code in NEW_captions.py"
   ]
  },
  {
   "cell_type": "markdown",
   "id": "ecc6322a-e0a4-40f0-8a56-314d66156d68",
   "metadata": {},
   "source": [
    "```python\n",
    "with open('../NEW_captions.py', encoding='utf-8') as f_cc_code:\n",
    "    new_code = f_cc_code.read()\n",
    "```"
   ]
  },
  {
   "cell_type": "markdown",
   "id": "2e660f3d-4fe9-4e9b-931b-f7d155969cc8",
   "metadata": {},
   "source": [
    "```python\n",
    "with open('../../../opt/conda/lib/python3.7/site-packages/pytube/captions.py', mode='w', encoding='utf-8') as f_captions:\n",
    "    f_captions.write(new_code)\n",
    "```"
   ]
  },
  {
   "cell_type": "code",
   "execution_count": 1,
   "id": "dc4774d1",
   "metadata": {},
   "outputs": [],
   "source": [
    "from itertools import chain\n",
    "from collections import Counter"
   ]
  },
  {
   "cell_type": "code",
   "execution_count": 2,
   "id": "858ae96f",
   "metadata": {},
   "outputs": [
    {
     "name": "stdout",
     "output_type": "stream",
     "text": [
      "Your Computer Name is:ubuntu\n",
      "Your Computer IP Address is:10.138.0.8\n"
     ]
    }
   ],
   "source": [
    "# Python Program to Get IP Address\n",
    "import socket\n",
    "hostname = socket.gethostname()\n",
    "IPAddr = socket.gethostbyname(hostname)\n",
    " \n",
    "print(\"Your Computer Name is:\" + hostname)\n",
    "print(\"Your Computer IP Address is:\" + IPAddr)"
   ]
  },
  {
   "cell_type": "markdown",
   "id": "64cc2906",
   "metadata": {},
   "source": [
    "## Your Computer Name is:python-20221009-200502\n",
    "## Your Computer IP Address is:10.138.0.3"
   ]
  },
  {
   "cell_type": "code",
   "execution_count": null,
   "id": "1d986cac",
   "metadata": {},
   "outputs": [],
   "source": []
  },
  {
   "cell_type": "code",
   "execution_count": 3,
   "id": "358940a3",
   "metadata": {},
   "outputs": [],
   "source": [
    "from time import sleep"
   ]
  },
  {
   "cell_type": "code",
   "execution_count": 4,
   "id": "4dbeb184",
   "metadata": {},
   "outputs": [],
   "source": [
    "import pytube\n",
    "from pytube import YouTube"
   ]
  },
  {
   "cell_type": "code",
   "execution_count": 5,
   "id": "eb247328",
   "metadata": {},
   "outputs": [],
   "source": [
    "import pandas as pd"
   ]
  },
  {
   "cell_type": "code",
   "execution_count": 6,
   "id": "50363f11",
   "metadata": {},
   "outputs": [],
   "source": [
    "import regex as re"
   ]
  },
  {
   "cell_type": "code",
   "execution_count": 7,
   "id": "9e7ae6cb",
   "metadata": {},
   "outputs": [],
   "source": [
    "from random import randint\n",
    "import os\n",
    "from itertools import chain\n",
    "from collections import Counter"
   ]
  },
  {
   "cell_type": "code",
   "execution_count": 8,
   "id": "bef15bed",
   "metadata": {},
   "outputs": [],
   "source": [
    "df = pd.read_pickle('AIR_POWER_SYMP_01.pkl')"
   ]
  },
  {
   "cell_type": "code",
   "execution_count": 9,
   "id": "1f90c1ae",
   "metadata": {},
   "outputs": [],
   "source": [
    "def yt_keywords(yt):\n",
    "    try:\n",
    "        return yt.keywords\n",
    "    except:\n",
    "        print('EXCEPTION 1')\n",
    "        return []"
   ]
  },
  {
   "cell_type": "code",
   "execution_count": 10,
   "id": "18f263d9",
   "metadata": {},
   "outputs": [],
   "source": [
    "def yt_desc(yt):\n",
    "    try:\n",
    "        return yt.description\n",
    "    except:\n",
    "        print('EXCEPTION 2')\n",
    "        return 'EMPTY'"
   ]
  },
  {
   "cell_type": "code",
   "execution_count": 11,
   "id": "d3a15bde",
   "metadata": {},
   "outputs": [],
   "source": [
    "def yt_lenght(yt):\n",
    "    try:\n",
    "        return yt.length\n",
    "    except:\n",
    "        print('EXCEPTION 3')\n",
    "        return 0"
   ]
  },
  {
   "cell_type": "code",
   "execution_count": 12,
   "id": "55eed256",
   "metadata": {},
   "outputs": [],
   "source": [
    "def yt_views(yt):\n",
    "    try:\n",
    "        return yt.views\n",
    "    except:\n",
    "        print('EXCEPTION 4')\n",
    "        return 0"
   ]
  },
  {
   "cell_type": "code",
   "execution_count": 13,
   "id": "306ffa8f",
   "metadata": {},
   "outputs": [],
   "source": [
    "def yt_date(yt):\n",
    "    try:\n",
    "        return yt.publish_date\n",
    "    except:\n",
    "        print('EXCEPTION 5')\n",
    "        return 0"
   ]
  },
  {
   "cell_type": "code",
   "execution_count": 14,
   "id": "1053b5df",
   "metadata": {},
   "outputs": [],
   "source": [
    "def yt_info(yt):\n",
    "    try:\n",
    "        return yt.vid_info\n",
    "    except:\n",
    "        print('EXCEPTION 6')\n",
    "        return {}"
   ]
  },
  {
   "cell_type": "code",
   "execution_count": 15,
   "id": "a3a8b89f",
   "metadata": {},
   "outputs": [],
   "source": [
    "def yt_title(yt):\n",
    "    try:\n",
    "        return yt.title\n",
    "    except:\n",
    "        print('EXCEPTION 7')\n",
    "        return \"EMPTY\""
   ]
  },
  {
   "cell_type": "code",
   "execution_count": 16,
   "id": "5b435b33",
   "metadata": {},
   "outputs": [],
   "source": [
    "def yt_captions(yt):\n",
    "    try:\n",
    "        return yt.captions.all()\n",
    "    except:\n",
    "        print('EXCEPTION 8')\n",
    "        return \"EMPTY\""
   ]
  },
  {
   "cell_type": "code",
   "execution_count": null,
   "id": "ccf25d3c",
   "metadata": {},
   "outputs": [],
   "source": []
  },
  {
   "cell_type": "code",
   "execution_count": 17,
   "id": "813305d1",
   "metadata": {},
   "outputs": [],
   "source": [
    "def get_subs(url, file_name='CC', file_ext='txt', lang_code='a.en en'.split(), dir_name = 'TRANSCRIPTS'):\n",
    "    try:\n",
    "        os.makedirs(f'./{dir_name}/', exist_ok=True) \n",
    "        yt = YouTube(url)\n",
    "        vid_id = yt.video_id\n",
    "        vid_title = yt.title\n",
    "        \n",
    "        file_name = re.sub(r'\\W+', '_', vid_title)\n",
    "        file_name = f'{file_name}.{file_ext}'\n",
    "        print(file_name)\n",
    "        \n",
    "        cc = yt.captions.all() # DeprecationWarning: Call to deprecated function all\n",
    "        \n",
    "        cc = [i for i in cc if i.code in lang_code][0]\n",
    "        cc = cc.xml_caption_to_srt(cc.xml_captions)\n",
    "        \n",
    "        cc = re.sub(r'\\n +', '\\n', cc)\n",
    "        with open(f'./TRANSCRIPTS/{file_name}', mode='w', encoding='utf-8') as f:\n",
    "            f.write(cc)\n",
    "     \n",
    "        cc = re.sub(r'\\n', '_NEW_LINE_', cc)\n",
    "        cc = re.split(r'(_NEW_LINE_){2,}', cc)\n",
    "        cc = [i for i in cc if i != '_NEW_LINE_']\n",
    "        \n",
    "        cc_text =  [re.sub('.*?_NEW_LINE_.*?_NEW_LINE_', '', i).strip() for i in cc]\n",
    "        return ' '.join(cc_text)\n",
    "        \n",
    "    except Exception as e:\n",
    "        print(e)\n",
    "        print('Error')"
   ]
  },
  {
   "cell_type": "markdown",
   "id": "aaeca1c8-7f8c-49cd-a33f-cb27f392af98",
   "metadata": {},
   "source": [
    "# Filter Only English Code; a.en, en, en-US etc."
   ]
  },
  {
   "cell_type": "code",
   "execution_count": 18,
   "id": "38412349-e6fe-475f-8f30-99ea9093da95",
   "metadata": {},
   "outputs": [],
   "source": [
    "df['LANG_CODE'] = df.CAPTIONS.apply(lambda x: [i.code for i in x])"
   ]
  },
  {
   "cell_type": "code",
   "execution_count": 19,
   "id": "65e21d2e-332d-4266-81e0-b5d7b5032131",
   "metadata": {},
   "outputs": [],
   "source": [
    "df = df.explode(['LANG_CODE']).reset_index(drop=True)"
   ]
  },
  {
   "cell_type": "code",
   "execution_count": 20,
   "id": "c5873590-c290-4f7a-874d-bc0ad021a504",
   "metadata": {},
   "outputs": [],
   "source": [
    "en_code = list(dict(df.LANG_CODE.value_counts()))[:3]"
   ]
  },
  {
   "cell_type": "code",
   "execution_count": 21,
   "id": "0dffe086-055b-4fae-b9d9-7f254ef39f68",
   "metadata": {},
   "outputs": [],
   "source": [
    "df = df[df.LANG_CODE.apply(lambda x: x in en_code)].reset_index(drop=True)"
   ]
  },
  {
   "cell_type": "code",
   "execution_count": 22,
   "id": "af7fda6f-1679-471e-a9c7-4c45805a94c6",
   "metadata": {},
   "outputs": [
    {
     "data": {
      "text/plain": [
       "a.en     2425\n",
       "en        746\n",
       "en-US      59\n",
       "Name: LANG_CODE, dtype: int64"
      ]
     },
     "execution_count": 22,
     "metadata": {},
     "output_type": "execute_result"
    }
   ],
   "source": [
    "df.LANG_CODE.value_counts()"
   ]
  },
  {
   "cell_type": "markdown",
   "id": "721d08cc-25eb-43bf-98aa-72379492417d",
   "metadata": {},
   "source": [
    "# Filter Long Videos"
   ]
  },
  {
   "cell_type": "code",
   "execution_count": 23,
   "id": "936edb05-f20a-48ba-bf5b-5a0e95471c70",
   "metadata": {},
   "outputs": [],
   "source": [
    "num_of_minutes = 10"
   ]
  },
  {
   "cell_type": "code",
   "execution_count": 24,
   "id": "a06bf573-66a9-44e7-aa4f-7e7e28358473",
   "metadata": {},
   "outputs": [],
   "source": [
    "df = df[df.LENGTH > (60 * num_of_minutes)].reset_index(drop=True)"
   ]
  },
  {
   "cell_type": "code",
   "execution_count": 25,
   "id": "d90f0e0e-af60-4781-aab1-b7d9e5c0dca2",
   "metadata": {},
   "outputs": [
    {
     "data": {
      "text/plain": [
       "a.en    434\n",
       "en       15\n",
       "Name: LANG_CODE, dtype: int64"
      ]
     },
     "execution_count": 25,
     "metadata": {},
     "output_type": "execute_result"
    }
   ],
   "source": [
    "df.LANG_CODE.value_counts()"
   ]
  },
  {
   "cell_type": "code",
   "execution_count": null,
   "id": "ccac4500-54d2-4cc0-a3b4-825093d63944",
   "metadata": {},
   "outputs": [],
   "source": []
  },
  {
   "cell_type": "markdown",
   "id": "fb8d633b-7b49-49d0-bba0-512e3b487165",
   "metadata": {
    "tags": []
   },
   "source": [
    "# Extract CC"
   ]
  },
  {
   "cell_type": "code",
   "execution_count": 26,
   "id": "efe8938f",
   "metadata": {},
   "outputs": [],
   "source": [
    "df_main_text = pd.DataFrame(data={'TEXT': [], 'VID_URL':[]})"
   ]
  },
  {
   "cell_type": "code",
   "execution_count": null,
   "id": "952ac9ab",
   "metadata": {},
   "outputs": [
    {
     "name": "stdout",
     "output_type": "stream",
     "text": [
      "AFA_s_Air_Space_Cyber_The_Power_of_Unmanned_Systems.txt\n"
     ]
    },
    {
     "name": "stderr",
     "output_type": "stream",
     "text": [
      "/opt/conda/lib/python3.7/site-packages/ipykernel_launcher.py:12: DeprecationWarning: Call to deprecated function all (This object can be treated as a dictionary).\n",
      "  if sys.path[0] == \"\":\n"
     ]
    },
    {
     "name": "stdout",
     "output_type": "stream",
     "text": [
      "Finished 1 of 449\n",
      "-------------------------------\n",
      "2022_AFA_Warfare_Symposium_Unmanned_And_Autonomous_Systems.txt\n"
     ]
    },
    {
     "name": "stderr",
     "output_type": "stream",
     "text": [
      "/opt/conda/lib/python3.7/site-packages/ipykernel_launcher.py:12: DeprecationWarning: Call to deprecated function all (This object can be treated as a dictionary).\n",
      "  if sys.path[0] == \"\":\n"
     ]
    },
    {
     "name": "stdout",
     "output_type": "stream",
     "text": [
      "Finished 2 of 449\n",
      "-------------------------------\n",
      "The_Honorable_Heather_Wilson.txt\n"
     ]
    },
    {
     "name": "stderr",
     "output_type": "stream",
     "text": [
      "/opt/conda/lib/python3.7/site-packages/ipykernel_launcher.py:12: DeprecationWarning: Call to deprecated function all (This object can be treated as a dictionary).\n",
      "  if sys.path[0] == \"\":\n"
     ]
    },
    {
     "name": "stdout",
     "output_type": "stream",
     "text": [
      "Finished 3 of 449\n",
      "-------------------------------\n",
      "AFA_s_Air_Space_Cyber_Keynote_Address_Today_s_Airmen_with_a_Focus_on_the_Future.txt\n"
     ]
    },
    {
     "name": "stderr",
     "output_type": "stream",
     "text": [
      "/opt/conda/lib/python3.7/site-packages/ipykernel_launcher.py:12: DeprecationWarning: Call to deprecated function all (This object can be treated as a dictionary).\n",
      "  if sys.path[0] == \"\":\n"
     ]
    },
    {
     "name": "stdout",
     "output_type": "stream",
     "text": [
      "Finished 4 of 449\n",
      "-------------------------------\n",
      "2022_AFA_Warfare_Symposium_Battle_Management_ABMS_JADCS_.txt\n"
     ]
    },
    {
     "name": "stderr",
     "output_type": "stream",
     "text": [
      "/opt/conda/lib/python3.7/site-packages/ipykernel_launcher.py:12: DeprecationWarning: Call to deprecated function all (This object can be treated as a dictionary).\n",
      "  if sys.path[0] == \"\":\n"
     ]
    },
    {
     "name": "stdout",
     "output_type": "stream",
     "text": [
      "Finished 5 of 449\n",
      "-------------------------------\n",
      "AFA_Air_Force_Breakfast_Randall_G_Walden.txt\n"
     ]
    },
    {
     "name": "stderr",
     "output_type": "stream",
     "text": [
      "/opt/conda/lib/python3.7/site-packages/ipykernel_launcher.py:12: DeprecationWarning: Call to deprecated function all (This object can be treated as a dictionary).\n",
      "  if sys.path[0] == \"\":\n"
     ]
    },
    {
     "name": "stdout",
     "output_type": "stream",
     "text": [
      "Finished 6 of 449\n",
      "-------------------------------\n",
      "AFA_s_vASC_2020_Strategic_Airlift_The_Global_Challenge.txt\n"
     ]
    },
    {
     "name": "stderr",
     "output_type": "stream",
     "text": [
      "/opt/conda/lib/python3.7/site-packages/ipykernel_launcher.py:12: DeprecationWarning: Call to deprecated function all (This object can be treated as a dictionary).\n",
      "  if sys.path[0] == \"\":\n"
     ]
    },
    {
     "name": "stdout",
     "output_type": "stream",
     "text": [
      "Finished 7 of 449\n",
      "-------------------------------\n",
      "Air_and_Space_Warfighters_in_Action_Welcomes_Lt_Gen_Scott_Pleus_and_CMSgt_Philip_Hudson.txt\n"
     ]
    },
    {
     "name": "stderr",
     "output_type": "stream",
     "text": [
      "/opt/conda/lib/python3.7/site-packages/ipykernel_launcher.py:12: DeprecationWarning: Call to deprecated function all (This object can be treated as a dictionary).\n",
      "  if sys.path[0] == \"\":\n"
     ]
    },
    {
     "name": "stdout",
     "output_type": "stream",
     "text": [
      "Finished 8 of 449\n",
      "-------------------------------\n",
      "AFA_s_Air_Space_Cyber_Connectivity_and_JADC2.txt\n"
     ]
    },
    {
     "name": "stderr",
     "output_type": "stream",
     "text": [
      "/opt/conda/lib/python3.7/site-packages/ipykernel_launcher.py:12: DeprecationWarning: Call to deprecated function all (This object can be treated as a dictionary).\n",
      "  if sys.path[0] == \"\":\n"
     ]
    },
    {
     "name": "stdout",
     "output_type": "stream",
     "text": [
      "Finished 9 of 449\n",
      "-------------------------------\n",
      "2022_AFA_Warfare_Symposium_The_Future_of_Unmanned_Military_Airpower.txt\n"
     ]
    },
    {
     "name": "stderr",
     "output_type": "stream",
     "text": [
      "/opt/conda/lib/python3.7/site-packages/ipykernel_launcher.py:12: DeprecationWarning: Call to deprecated function all (This object can be treated as a dictionary).\n",
      "  if sys.path[0] == \"\":\n"
     ]
    },
    {
     "name": "stdout",
     "output_type": "stream",
     "text": [
      "Finished 10 of 449\n",
      "-------------------------------\n",
      "Mission_Capability_Area_Space_Overhead_Platforms_at_AFA_s_2021_Air_Space_Cyber_Conference.txt\n"
     ]
    },
    {
     "name": "stderr",
     "output_type": "stream",
     "text": [
      "/opt/conda/lib/python3.7/site-packages/ipykernel_launcher.py:12: DeprecationWarning: Call to deprecated function all (This object can be treated as a dictionary).\n",
      "  if sys.path[0] == \"\":\n"
     ]
    },
    {
     "name": "stdout",
     "output_type": "stream",
     "text": [
      "Finished 11 of 449\n",
      "-------------------------------\n",
      "AFA_s_Air_Space_Cyber_Weapons_and_Munitions.txt\n"
     ]
    },
    {
     "name": "stderr",
     "output_type": "stream",
     "text": [
      "/opt/conda/lib/python3.7/site-packages/ipykernel_launcher.py:12: DeprecationWarning: Call to deprecated function all (This object can be treated as a dictionary).\n",
      "  if sys.path[0] == \"\":\n"
     ]
    },
    {
     "name": "stdout",
     "output_type": "stream",
     "text": [
      "Finished 12 of 449\n",
      "-------------------------------\n",
      "Air_Space_Warfighters_in_Action_with_Lt_Gen_David_Nahom_and_Lt_Gen_William_Liquori.txt\n"
     ]
    },
    {
     "name": "stderr",
     "output_type": "stream",
     "text": [
      "/opt/conda/lib/python3.7/site-packages/ipykernel_launcher.py:12: DeprecationWarning: Call to deprecated function all (This object can be treated as a dictionary).\n",
      "  if sys.path[0] == \"\":\n"
     ]
    },
    {
     "name": "stdout",
     "output_type": "stream",
     "text": [
      "Finished 13 of 449\n",
      "-------------------------------\n",
      "Jeff_Bezos_Interview_with_AFA_President_Gen_Larry_Spencer_Ret_.txt\n"
     ]
    },
    {
     "name": "stderr",
     "output_type": "stream",
     "text": [
      "/opt/conda/lib/python3.7/site-packages/ipykernel_launcher.py:12: DeprecationWarning: Call to deprecated function all (This object can be treated as a dictionary).\n",
      "  if sys.path[0] == \"\":\n"
     ]
    },
    {
     "name": "stdout",
     "output_type": "stream",
     "text": [
      "Finished 14 of 449\n",
      "-------------------------------\n",
      "vAWS_2021_Training_for_War.txt\n"
     ]
    },
    {
     "name": "stderr",
     "output_type": "stream",
     "text": [
      "/opt/conda/lib/python3.7/site-packages/ipykernel_launcher.py:12: DeprecationWarning: Call to deprecated function all (This object can be treated as a dictionary).\n",
      "  if sys.path[0] == \"\":\n"
     ]
    },
    {
     "name": "stdout",
     "output_type": "stream",
     "text": [
      "Finished 15 of 449\n",
      "-------------------------------\n",
      "vAWS_2021_USSF_Building_the_First_Digital_Service.txt\n"
     ]
    },
    {
     "name": "stderr",
     "output_type": "stream",
     "text": [
      "/opt/conda/lib/python3.7/site-packages/ipykernel_launcher.py:12: DeprecationWarning: Call to deprecated function all (This object can be treated as a dictionary).\n",
      "  if sys.path[0] == \"\":\n"
     ]
    },
    {
     "name": "stdout",
     "output_type": "stream",
     "text": [
      "Finished 16 of 449\n",
      "-------------------------------\n",
      "AFA_s_vASC_2020_Small_Business_and_the_Air_Space_Forces.txt\n"
     ]
    },
    {
     "name": "stderr",
     "output_type": "stream",
     "text": [
      "/opt/conda/lib/python3.7/site-packages/ipykernel_launcher.py:12: DeprecationWarning: Call to deprecated function all (This object can be treated as a dictionary).\n",
      "  if sys.path[0] == \"\":\n"
     ]
    },
    {
     "name": "stdout",
     "output_type": "stream",
     "text": [
      "Finished 17 of 449\n",
      "-------------------------------\n",
      "vAWS_2021_Enlisted_Leaders_Leading_in_a_Time_of_Change.txt\n"
     ]
    },
    {
     "name": "stderr",
     "output_type": "stream",
     "text": [
      "/opt/conda/lib/python3.7/site-packages/ipykernel_launcher.py:12: DeprecationWarning: Call to deprecated function all (This object can be treated as a dictionary).\n",
      "  if sys.path[0] == \"\":\n"
     ]
    },
    {
     "name": "stdout",
     "output_type": "stream",
     "text": [
      "Finished 18 of 449\n",
      "-------------------------------\n",
      "AFA_s_Air_Space_Cyber_Accelerating_Space_Acquisition.txt\n"
     ]
    },
    {
     "name": "stderr",
     "output_type": "stream",
     "text": [
      "/opt/conda/lib/python3.7/site-packages/ipykernel_launcher.py:12: DeprecationWarning: Call to deprecated function all (This object can be treated as a dictionary).\n",
      "  if sys.path[0] == \"\":\n"
     ]
    },
    {
     "name": "stdout",
     "output_type": "stream",
     "text": [
      "Finished 19 of 449\n",
      "-------------------------------\n",
      "2022_AFA_Warfare_Symposium_EMS_ElectroMagnetic_Spectrum_Warfare.txt\n"
     ]
    },
    {
     "name": "stderr",
     "output_type": "stream",
     "text": [
      "/opt/conda/lib/python3.7/site-packages/ipykernel_launcher.py:12: DeprecationWarning: Call to deprecated function all (This object can be treated as a dictionary).\n",
      "  if sys.path[0] == \"\":\n"
     ]
    },
    {
     "name": "stdout",
     "output_type": "stream",
     "text": [
      "Finished 20 of 449\n",
      "-------------------------------\n",
      "AFA_s_Air_Space_Cyber_Electromagnetic_Warfare.txt\n"
     ]
    },
    {
     "name": "stderr",
     "output_type": "stream",
     "text": [
      "/opt/conda/lib/python3.7/site-packages/ipykernel_launcher.py:12: DeprecationWarning: Call to deprecated function all (This object can be treated as a dictionary).\n",
      "  if sys.path[0] == \"\":\n"
     ]
    },
    {
     "name": "stdout",
     "output_type": "stream",
     "text": [
      "Finished 21 of 449\n",
      "-------------------------------\n",
      "AFA_s_Air_Space_Cyber_Spirit_of_Air_Power.txt\n"
     ]
    },
    {
     "name": "stderr",
     "output_type": "stream",
     "text": [
      "/opt/conda/lib/python3.7/site-packages/ipykernel_launcher.py:12: DeprecationWarning: Call to deprecated function all (This object can be treated as a dictionary).\n",
      "  if sys.path[0] == \"\":\n"
     ]
    },
    {
     "name": "stdout",
     "output_type": "stream",
     "text": [
      "Finished 22 of 449\n",
      "-------------------------------\n",
      "vAWS_2021_Industry_Spotlight_Rolls_Royce.txt\n"
     ]
    },
    {
     "name": "stderr",
     "output_type": "stream",
     "text": [
      "/opt/conda/lib/python3.7/site-packages/ipykernel_launcher.py:12: DeprecationWarning: Call to deprecated function all (This object can be treated as a dictionary).\n",
      "  if sys.path[0] == \"\":\n"
     ]
    },
    {
     "name": "stdout",
     "output_type": "stream",
     "text": [
      "Finished 23 of 449\n",
      "-------------------------------\n",
      "AFA_s_Air_Space_Cyber_People_First_Spouse_Employment_Health_and_a_Better_Life.txt\n"
     ]
    },
    {
     "name": "stderr",
     "output_type": "stream",
     "text": [
      "/opt/conda/lib/python3.7/site-packages/ipykernel_launcher.py:12: DeprecationWarning: Call to deprecated function all (This object can be treated as a dictionary).\n",
      "  if sys.path[0] == \"\":\n"
     ]
    },
    {
     "name": "stdout",
     "output_type": "stream",
     "text": [
      "Finished 24 of 449\n",
      "-------------------------------\n",
      "AFA_s_Air_Space_Cyber_Keynote_Address_Families_in_the_Fight_Senior_Leadership_Perspective.txt\n"
     ]
    },
    {
     "name": "stderr",
     "output_type": "stream",
     "text": [
      "/opt/conda/lib/python3.7/site-packages/ipykernel_launcher.py:12: DeprecationWarning: Call to deprecated function all (This object can be treated as a dictionary).\n",
      "  if sys.path[0] == \"\":\n"
     ]
    },
    {
     "name": "stdout",
     "output_type": "stream",
     "text": [
      "Finished 25 of 449\n",
      "-------------------------------\n",
      "AFA_s_Air_Space_Cyber_America_Under_Attack_Defending_the_Homeland.txt\n"
     ]
    },
    {
     "name": "stderr",
     "output_type": "stream",
     "text": [
      "/opt/conda/lib/python3.7/site-packages/ipykernel_launcher.py:12: DeprecationWarning: Call to deprecated function all (This object can be treated as a dictionary).\n",
      "  if sys.path[0] == \"\":\n"
     ]
    },
    {
     "name": "stdout",
     "output_type": "stream",
     "text": [
      "Finished 26 of 449\n",
      "-------------------------------\n",
      "AFA_s_vASC_2020_The_New_Ops_Normal_COVID_19.txt\n"
     ]
    },
    {
     "name": "stderr",
     "output_type": "stream",
     "text": [
      "/opt/conda/lib/python3.7/site-packages/ipykernel_launcher.py:12: DeprecationWarning: Call to deprecated function all (This object can be treated as a dictionary).\n",
      "  if sys.path[0] == \"\":\n"
     ]
    },
    {
     "name": "stdout",
     "output_type": "stream",
     "text": [
      "Finished 27 of 449\n",
      "-------------------------------\n",
      "MOSAIC_Warfare_Actualizing_Multi_Domain_Operations.txt\n"
     ]
    },
    {
     "name": "stderr",
     "output_type": "stream",
     "text": [
      "/opt/conda/lib/python3.7/site-packages/ipykernel_launcher.py:12: DeprecationWarning: Call to deprecated function all (This object can be treated as a dictionary).\n",
      "  if sys.path[0] == \"\":\n"
     ]
    },
    {
     "name": "stdout",
     "output_type": "stream",
     "text": [
      "Finished 28 of 449\n",
      "-------------------------------\n",
      "AFA_s_Air_Space_Cyber_Cyber_Technology.txt\n"
     ]
    },
    {
     "name": "stderr",
     "output_type": "stream",
     "text": [
      "/opt/conda/lib/python3.7/site-packages/ipykernel_launcher.py:12: DeprecationWarning: Call to deprecated function all (This object can be treated as a dictionary).\n",
      "  if sys.path[0] == \"\":\n"
     ]
    },
    {
     "name": "stdout",
     "output_type": "stream",
     "text": [
      "Finished 29 of 449\n",
      "-------------------------------\n",
      "Winning_Our_Air_Force_Heritage_and_Future.txt\n"
     ]
    },
    {
     "name": "stderr",
     "output_type": "stream",
     "text": [
      "/opt/conda/lib/python3.7/site-packages/ipykernel_launcher.py:12: DeprecationWarning: Call to deprecated function all (This object can be treated as a dictionary).\n",
      "  if sys.path[0] == \"\":\n"
     ]
    },
    {
     "name": "stdout",
     "output_type": "stream",
     "text": [
      "Finished 30 of 449\n",
      "-------------------------------\n",
      "AFA_s_vASC_2020_CMSgt_Roger_A_Towberman_Senior_Enlisted_Advisor_of_the_United_States_Space_Force.txt\n"
     ]
    },
    {
     "name": "stderr",
     "output_type": "stream",
     "text": [
      "/opt/conda/lib/python3.7/site-packages/ipykernel_launcher.py:12: DeprecationWarning: Call to deprecated function all (This object can be treated as a dictionary).\n",
      "  if sys.path[0] == \"\":\n"
     ]
    },
    {
     "name": "stdout",
     "output_type": "stream",
     "text": [
      "Finished 31 of 449\n",
      "-------------------------------\n",
      "vAWS_2021_The_Guardians_We_Need_Transitioning_into_the_Space_Force.txt\n"
     ]
    },
    {
     "name": "stderr",
     "output_type": "stream",
     "text": [
      "/opt/conda/lib/python3.7/site-packages/ipykernel_launcher.py:12: DeprecationWarning: Call to deprecated function all (This object can be treated as a dictionary).\n",
      "  if sys.path[0] == \"\":\n"
     ]
    },
    {
     "name": "stdout",
     "output_type": "stream",
     "text": [
      "Finished 32 of 449\n",
      "-------------------------------\n",
      "AFA_Breakfast_Series_Lt_Gen_L_Scott_Rice.txt\n"
     ]
    },
    {
     "name": "stderr",
     "output_type": "stream",
     "text": [
      "/opt/conda/lib/python3.7/site-packages/ipykernel_launcher.py:12: DeprecationWarning: Call to deprecated function all (This object can be treated as a dictionary).\n",
      "  if sys.path[0] == \"\":\n"
     ]
    },
    {
     "name": "stdout",
     "output_type": "stream",
     "text": [
      "Finished 33 of 449\n",
      "-------------------------------\n",
      "2022_AFA_Warfare_Symposium_Warfighter_Training_and_Readiness.txt\n"
     ]
    },
    {
     "name": "stderr",
     "output_type": "stream",
     "text": [
      "/opt/conda/lib/python3.7/site-packages/ipykernel_launcher.py:12: DeprecationWarning: Call to deprecated function all (This object can be treated as a dictionary).\n",
      "  if sys.path[0] == \"\":\n"
     ]
    },
    {
     "name": "stdout",
     "output_type": "stream",
     "text": [
      "Finished 34 of 449\n",
      "-------------------------------\n",
      "vAWS_2021_Science_Technology_Innovation_In_Every_Domain.txt\n"
     ]
    },
    {
     "name": "stderr",
     "output_type": "stream",
     "text": [
      "/opt/conda/lib/python3.7/site-packages/ipykernel_launcher.py:12: DeprecationWarning: Call to deprecated function all (This object can be treated as a dictionary).\n",
      "  if sys.path[0] == \"\":\n"
     ]
    },
    {
     "name": "stdout",
     "output_type": "stream",
     "text": [
      "Finished 35 of 449\n",
      "-------------------------------\n",
      "AFA_Breakfast_Series_Winston_Beauchamp.txt\n"
     ]
    },
    {
     "name": "stderr",
     "output_type": "stream",
     "text": [
      "/opt/conda/lib/python3.7/site-packages/ipykernel_launcher.py:12: DeprecationWarning: Call to deprecated function all (This object can be treated as a dictionary).\n",
      "  if sys.path[0] == \"\":\n"
     ]
    },
    {
     "name": "stdout",
     "output_type": "stream",
     "text": [
      "Finished 36 of 449\n",
      "-------------------------------\n",
      "2022_AFA_Warfare_Symposium_Nuclear_Modernization.txt\n"
     ]
    },
    {
     "name": "stderr",
     "output_type": "stream",
     "text": [
      "/opt/conda/lib/python3.7/site-packages/ipykernel_launcher.py:12: DeprecationWarning: Call to deprecated function all (This object can be treated as a dictionary).\n",
      "  if sys.path[0] == \"\":\n"
     ]
    },
    {
     "name": "stdout",
     "output_type": "stream",
     "text": [
      "Finished 37 of 449\n",
      "-------------------------------\n",
      "2019_Air_Space_Cyber_Conference_Keynote_Address.txt\n"
     ]
    },
    {
     "name": "stderr",
     "output_type": "stream",
     "text": [
      "/opt/conda/lib/python3.7/site-packages/ipykernel_launcher.py:12: DeprecationWarning: Call to deprecated function all (This object can be treated as a dictionary).\n",
      "  if sys.path[0] == \"\":\n"
     ]
    },
    {
     "name": "stdout",
     "output_type": "stream",
     "text": [
      "Finished 38 of 449\n",
      "-------------------------------\n",
      "July_AFA_Air_Force_Breakfast_Series_Lt_Gen_Jack_Weinstein.txt\n"
     ]
    },
    {
     "name": "stderr",
     "output_type": "stream",
     "text": [
      "/opt/conda/lib/python3.7/site-packages/ipykernel_launcher.py:12: DeprecationWarning: Call to deprecated function all (This object can be treated as a dictionary).\n",
      "  if sys.path[0] == \"\":\n"
     ]
    },
    {
     "name": "stdout",
     "output_type": "stream",
     "text": [
      "Finished 39 of 449\n",
      "-------------------------------\n",
      "Lifetime_Achievement_Award_for_General_John_Shaud.txt\n"
     ]
    },
    {
     "name": "stderr",
     "output_type": "stream",
     "text": [
      "/opt/conda/lib/python3.7/site-packages/ipykernel_launcher.py:12: DeprecationWarning: Call to deprecated function all (This object can be treated as a dictionary).\n",
      "  if sys.path[0] == \"\":\n"
     ]
    },
    {
     "name": "stdout",
     "output_type": "stream",
     "text": [
      "Finished 40 of 449\n",
      "-------------------------------\n",
      "Airmen_in_the_Fight_AFA_Welcomes_Lt_Gen_Kevin_B_Schneider.txt\n"
     ]
    },
    {
     "name": "stderr",
     "output_type": "stream",
     "text": [
      "/opt/conda/lib/python3.7/site-packages/ipykernel_launcher.py:12: DeprecationWarning: Call to deprecated function all (This object can be treated as a dictionary).\n",
      "  if sys.path[0] == \"\":\n"
     ]
    },
    {
     "name": "stdout",
     "output_type": "stream",
     "text": [
      "Finished 41 of 449\n",
      "-------------------------------\n",
      "ICBM_Update_with_Col_Erik_Quigley.txt\n"
     ]
    },
    {
     "name": "stderr",
     "output_type": "stream",
     "text": [
      "/opt/conda/lib/python3.7/site-packages/ipykernel_launcher.py:12: DeprecationWarning: Call to deprecated function all (This object can be treated as a dictionary).\n",
      "  if sys.path[0] == \"\":\n"
     ]
    },
    {
     "name": "stdout",
     "output_type": "stream",
     "text": [
      "Finished 42 of 449\n",
      "-------------------------------\n",
      "AFA_s_vASC_2020_Culture_Collision_and_Talent_Management.txt\n"
     ]
    },
    {
     "name": "stderr",
     "output_type": "stream",
     "text": [
      "/opt/conda/lib/python3.7/site-packages/ipykernel_launcher.py:12: DeprecationWarning: Call to deprecated function all (This object can be treated as a dictionary).\n",
      "  if sys.path[0] == \"\":\n"
     ]
    },
    {
     "name": "stdout",
     "output_type": "stream",
     "text": [
      "Finished 43 of 449\n",
      "-------------------------------\n",
      "2019_Air_Space_Cyber_Conference_Dr_Will_Roper.txt\n"
     ]
    },
    {
     "name": "stderr",
     "output_type": "stream",
     "text": [
      "/opt/conda/lib/python3.7/site-packages/ipykernel_launcher.py:12: DeprecationWarning: Call to deprecated function all (This object can be treated as a dictionary).\n",
      "  if sys.path[0] == \"\":\n"
     ]
    },
    {
     "name": "stdout",
     "output_type": "stream",
     "text": [
      "Finished 44 of 449\n",
      "-------------------------------\n",
      "Airmen_in_the_Fight_AFA_Roll_Call_with_VCSAF_Gen_Stephen_Seve_Wilson.txt\n"
     ]
    },
    {
     "name": "stderr",
     "output_type": "stream",
     "text": [
      "/opt/conda/lib/python3.7/site-packages/ipykernel_launcher.py:12: DeprecationWarning: Call to deprecated function all (This object can be treated as a dictionary).\n",
      "  if sys.path[0] == \"\":\n"
     ]
    },
    {
     "name": "stdout",
     "output_type": "stream",
     "text": [
      "Finished 45 of 449\n",
      "-------------------------------\n",
      "AFA_s_Air_Space_Cyber_Space_Warfare.txt\n"
     ]
    },
    {
     "name": "stderr",
     "output_type": "stream",
     "text": [
      "/opt/conda/lib/python3.7/site-packages/ipykernel_launcher.py:12: DeprecationWarning: Call to deprecated function all (This object can be treated as a dictionary).\n",
      "  if sys.path[0] == \"\":\n"
     ]
    },
    {
     "name": "stdout",
     "output_type": "stream",
     "text": [
      "Finished 46 of 449\n",
      "-------------------------------\n",
      "Airmen_and_Space_Warfighters_in_Action_Welcomes_Brig_Gen_Michael_Drowley.txt\n"
     ]
    },
    {
     "name": "stderr",
     "output_type": "stream",
     "text": [
      "/opt/conda/lib/python3.7/site-packages/ipykernel_launcher.py:12: DeprecationWarning: Call to deprecated function all (This object can be treated as a dictionary).\n",
      "  if sys.path[0] == \"\":\n"
     ]
    },
    {
     "name": "stdout",
     "output_type": "stream",
     "text": [
      "Finished 47 of 449\n",
      "-------------------------------\n",
      "Air_and_Space_Warfighters_in_Action_featuring_Maj_Gen_Case_Cunningham_and_Brig_Gen_Shawn_Bratton.txt\n"
     ]
    },
    {
     "name": "stderr",
     "output_type": "stream",
     "text": [
      "/opt/conda/lib/python3.7/site-packages/ipykernel_launcher.py:12: DeprecationWarning: Call to deprecated function all (This object can be treated as a dictionary).\n",
      "  if sys.path[0] == \"\":\n"
     ]
    },
    {
     "name": "stdout",
     "output_type": "stream",
     "text": [
      "Finished 48 of 449\n",
      "-------------------------------\n",
      "AFA_s_Air_Space_Cyber_Digital_Transformation_Unlocking_the_Cloud.txt\n"
     ]
    },
    {
     "name": "stderr",
     "output_type": "stream",
     "text": [
      "/opt/conda/lib/python3.7/site-packages/ipykernel_launcher.py:12: DeprecationWarning: Call to deprecated function all (This object can be treated as a dictionary).\n",
      "  if sys.path[0] == \"\":\n"
     ]
    },
    {
     "name": "stdout",
     "output_type": "stream",
     "text": [
      "Finished 49 of 449\n",
      "-------------------------------\n",
      "2022_AFA_Warfare_Symposium_Data_Management_AI_Cloud_Analytics.txt\n"
     ]
    },
    {
     "name": "stderr",
     "output_type": "stream",
     "text": [
      "/opt/conda/lib/python3.7/site-packages/ipykernel_launcher.py:12: DeprecationWarning: Call to deprecated function all (This object can be treated as a dictionary).\n",
      "  if sys.path[0] == \"\":\n"
     ]
    },
    {
     "name": "stdout",
     "output_type": "stream",
     "text": [
      "Finished 50 of 449\n",
      "-------------------------------\n",
      "AFA_s_vASC_2020_Acquisition_Policies_and_Practices_Defense_Start_Ups_Acquisition_with_Investors.txt\n"
     ]
    },
    {
     "name": "stderr",
     "output_type": "stream",
     "text": [
      "/opt/conda/lib/python3.7/site-packages/ipykernel_launcher.py:12: DeprecationWarning: Call to deprecated function all (This object can be treated as a dictionary).\n",
      "  if sys.path[0] == \"\":\n"
     ]
    },
    {
     "name": "stdout",
     "output_type": "stream",
     "text": [
      "Finished 51 of 449\n",
      "-------------------------------\n",
      "Air_Space_Leaders_in_Action_with_Air_Force_Secretary_Frank_Kendall.txt\n"
     ]
    },
    {
     "name": "stderr",
     "output_type": "stream",
     "text": [
      "/opt/conda/lib/python3.7/site-packages/ipykernel_launcher.py:12: DeprecationWarning: Call to deprecated function all (This object can be treated as a dictionary).\n",
      "  if sys.path[0] == \"\":\n"
     ]
    },
    {
     "name": "stdout",
     "output_type": "stream",
     "text": [
      "Finished 52 of 449\n",
      "-------------------------------\n",
      "AFA_s_Air_Space_Cyber_The_Future_of_Propulsion.txt\n"
     ]
    },
    {
     "name": "stderr",
     "output_type": "stream",
     "text": [
      "/opt/conda/lib/python3.7/site-packages/ipykernel_launcher.py:12: DeprecationWarning: Call to deprecated function all (This object can be treated as a dictionary).\n",
      "  if sys.path[0] == \"\":\n"
     ]
    },
    {
     "name": "stdout",
     "output_type": "stream",
     "text": [
      "Finished 53 of 449\n",
      "-------------------------------\n",
      "AFA_s_vASC_2020_Strategic_Airlift_The_Global_Challenge.txt\n"
     ]
    },
    {
     "name": "stderr",
     "output_type": "stream",
     "text": [
      "/opt/conda/lib/python3.7/site-packages/ipykernel_launcher.py:12: DeprecationWarning: Call to deprecated function all (This object can be treated as a dictionary).\n",
      "  if sys.path[0] == \"\":\n"
     ]
    },
    {
     "name": "stdout",
     "output_type": "stream",
     "text": [
      "Finished 54 of 449\n",
      "-------------------------------\n",
      "Threats_to_2010_Air_Supremacy.txt\n"
     ]
    },
    {
     "name": "stderr",
     "output_type": "stream",
     "text": [
      "/opt/conda/lib/python3.7/site-packages/ipykernel_launcher.py:12: DeprecationWarning: Call to deprecated function all (This object can be treated as a dictionary).\n",
      "  if sys.path[0] == \"\":\n"
     ]
    },
    {
     "name": "stdout",
     "output_type": "stream",
     "text": [
      "Finished 55 of 449\n",
      "-------------------------------\n",
      "vAWS_2021_Accelerating_Innovation.txt\n"
     ]
    },
    {
     "name": "stderr",
     "output_type": "stream",
     "text": [
      "/opt/conda/lib/python3.7/site-packages/ipykernel_launcher.py:12: DeprecationWarning: Call to deprecated function all (This object can be treated as a dictionary).\n",
      "  if sys.path[0] == \"\":\n"
     ]
    },
    {
     "name": "stdout",
     "output_type": "stream",
     "text": [
      "Finished 56 of 449\n",
      "-------------------------------\n",
      "AFA_s_Air_Space_Cyber_Accelerating_Acquisition.txt\n"
     ]
    },
    {
     "name": "stderr",
     "output_type": "stream",
     "text": [
      "/opt/conda/lib/python3.7/site-packages/ipykernel_launcher.py:12: DeprecationWarning: Call to deprecated function all (This object can be treated as a dictionary).\n",
      "  if sys.path[0] == \"\":\n"
     ]
    },
    {
     "name": "stdout",
     "output_type": "stream",
     "text": [
      "Finished 57 of 449\n",
      "-------------------------------\n",
      "vAWS_2021_Mission_Domain_Live_Engagement_C4ISR.txt\n"
     ]
    },
    {
     "name": "stderr",
     "output_type": "stream",
     "text": [
      "/opt/conda/lib/python3.7/site-packages/ipykernel_launcher.py:12: DeprecationWarning: Call to deprecated function all (This object can be treated as a dictionary).\n",
      "  if sys.path[0] == \"\":\n"
     ]
    },
    {
     "name": "stdout",
     "output_type": "stream",
     "text": [
      "Finished 58 of 449\n",
      "-------------------------------\n",
      "vAWS_2021_Mission_Domain_Live_Engagement_Space_Systems_and_Technology.txt\n"
     ]
    },
    {
     "name": "stderr",
     "output_type": "stream",
     "text": [
      "/opt/conda/lib/python3.7/site-packages/ipykernel_launcher.py:12: DeprecationWarning: Call to deprecated function all (This object can be treated as a dictionary).\n",
      "  if sys.path[0] == \"\":\n"
     ]
    },
    {
     "name": "stdout",
     "output_type": "stream",
     "text": [
      "Finished 59 of 449\n",
      "-------------------------------\n",
      "vAWS_2021_Mission_Domain_Live_Engagement_Autonomous_Systems.txt\n"
     ]
    },
    {
     "name": "stderr",
     "output_type": "stream",
     "text": [
      "/opt/conda/lib/python3.7/site-packages/ipykernel_launcher.py:12: DeprecationWarning: Call to deprecated function all (This object can be treated as a dictionary).\n",
      "  if sys.path[0] == \"\":\n"
     ]
    },
    {
     "name": "stdout",
     "output_type": "stream",
     "text": [
      "Finished 60 of 449\n",
      "-------------------------------\n",
      "2022_AFA_Warfare_Symposium_Leadership_and_Our_Enlisted_Force_Preparing_for_War.txt\n"
     ]
    },
    {
     "name": "stderr",
     "output_type": "stream",
     "text": [
      "/opt/conda/lib/python3.7/site-packages/ipykernel_launcher.py:12: DeprecationWarning: Call to deprecated function all (This object can be treated as a dictionary).\n",
      "  if sys.path[0] == \"\":\n"
     ]
    },
    {
     "name": "stdout",
     "output_type": "stream",
     "text": [
      "Finished 61 of 449\n",
      "-------------------------------\n",
      "vAWS_2021_Nuclear_Deterrence_and_the_Future_of_the_Triad.txt\n"
     ]
    },
    {
     "name": "stderr",
     "output_type": "stream",
     "text": [
      "/opt/conda/lib/python3.7/site-packages/ipykernel_launcher.py:12: DeprecationWarning: Call to deprecated function all (This object can be treated as a dictionary).\n",
      "  if sys.path[0] == \"\":\n"
     ]
    },
    {
     "name": "stdout",
     "output_type": "stream",
     "text": [
      "Finished 62 of 449\n",
      "-------------------------------\n",
      "AFA_s_vASC_2020_Information_Warfare.txt\n"
     ]
    },
    {
     "name": "stderr",
     "output_type": "stream",
     "text": [
      "/opt/conda/lib/python3.7/site-packages/ipykernel_launcher.py:12: DeprecationWarning: Call to deprecated function all (This object can be treated as a dictionary).\n",
      "  if sys.path[0] == \"\":\n"
     ]
    },
    {
     "name": "stdout",
     "output_type": "stream",
     "text": [
      "Finished 63 of 449\n",
      "-------------------------------\n",
      "AFA_s_Air_Space_Cyber_AI_Integration.txt\n"
     ]
    },
    {
     "name": "stderr",
     "output_type": "stream",
     "text": [
      "/opt/conda/lib/python3.7/site-packages/ipykernel_launcher.py:12: DeprecationWarning: Call to deprecated function all (This object can be treated as a dictionary).\n",
      "  if sys.path[0] == \"\":\n"
     ]
    },
    {
     "name": "stdout",
     "output_type": "stream",
     "text": [
      "Finished 64 of 449\n",
      "-------------------------------\n",
      "vAWS_2021_Diversity_Equity_Building_an_Ever_Stronger_Aerospace_Force.txt\n"
     ]
    },
    {
     "name": "stderr",
     "output_type": "stream",
     "text": [
      "/opt/conda/lib/python3.7/site-packages/ipykernel_launcher.py:12: DeprecationWarning: Call to deprecated function all (This object can be treated as a dictionary).\n",
      "  if sys.path[0] == \"\":\n"
     ]
    },
    {
     "name": "stdout",
     "output_type": "stream",
     "text": [
      "Finished 65 of 449\n",
      "-------------------------------\n",
      "vAWS_2021_No_Fuel_No_Fight_The_Future_of_Warfighting_Energy_Requirements.txt\n"
     ]
    },
    {
     "name": "stderr",
     "output_type": "stream",
     "text": [
      "/opt/conda/lib/python3.7/site-packages/ipykernel_launcher.py:12: DeprecationWarning: Call to deprecated function all (This object can be treated as a dictionary).\n",
      "  if sys.path[0] == \"\":\n"
     ]
    },
    {
     "name": "stdout",
     "output_type": "stream",
     "text": [
      "Finished 66 of 449\n",
      "-------------------------------\n",
      "AFA_Air_War_Over_Japan_9_13.txt\n"
     ]
    },
    {
     "name": "stderr",
     "output_type": "stream",
     "text": [
      "/opt/conda/lib/python3.7/site-packages/ipykernel_launcher.py:12: DeprecationWarning: Call to deprecated function all (This object can be treated as a dictionary).\n",
      "  if sys.path[0] == \"\":\n"
     ]
    },
    {
     "name": "stdout",
     "output_type": "stream",
     "text": [
      "Finished 67 of 449\n",
      "-------------------------------\n",
      "AFA_s_vASC_2020_Sponsored_Interview_Maj_Gen_Darryl_Burke_Ret_of_CACI.txt\n"
     ]
    },
    {
     "name": "stderr",
     "output_type": "stream",
     "text": [
      "/opt/conda/lib/python3.7/site-packages/ipykernel_launcher.py:12: DeprecationWarning: Call to deprecated function all (This object can be treated as a dictionary).\n",
      "  if sys.path[0] == \"\":\n"
     ]
    },
    {
     "name": "stdout",
     "output_type": "stream",
     "text": [
      "Finished 68 of 449\n",
      "-------------------------------\n",
      "2022_AFA_Warfare_Symposium_ISR_Remote_Sensing.txt\n"
     ]
    },
    {
     "name": "stderr",
     "output_type": "stream",
     "text": [
      "/opt/conda/lib/python3.7/site-packages/ipykernel_launcher.py:12: DeprecationWarning: Call to deprecated function all (This object can be treated as a dictionary).\n",
      "  if sys.path[0] == \"\":\n"
     ]
    },
    {
     "name": "stdout",
     "output_type": "stream",
     "text": [
      "Finished 69 of 449\n",
      "-------------------------------\n",
      "AFA_US_Air_Force_Breakfast_Series_Lt_Gen_Mark_Ediger_USAF_Surgeon_General.txt\n"
     ]
    },
    {
     "name": "stderr",
     "output_type": "stream",
     "text": [
      "/opt/conda/lib/python3.7/site-packages/ipykernel_launcher.py:12: DeprecationWarning: Call to deprecated function all (This object can be treated as a dictionary).\n",
      "  if sys.path[0] == \"\":\n"
     ]
    },
    {
     "name": "stdout",
     "output_type": "stream",
     "text": [
      "Finished 70 of 449\n",
      "-------------------------------\n",
      "AFA_s_vASC_2020_Watch_Preserving_Our_Competitive_Advantage_A_Vision_for_2030.txt\n"
     ]
    },
    {
     "name": "stderr",
     "output_type": "stream",
     "text": [
      "/opt/conda/lib/python3.7/site-packages/ipykernel_launcher.py:12: DeprecationWarning: Call to deprecated function all (This object can be treated as a dictionary).\n",
      "  if sys.path[0] == \"\":\n"
     ]
    },
    {
     "name": "stdout",
     "output_type": "stream",
     "text": [
      "Finished 71 of 449\n",
      "-------------------------------\n",
      "AFA_s_vASC_2020_The_New_Ops_Normal_for_Families.txt\n"
     ]
    },
    {
     "name": "stderr",
     "output_type": "stream",
     "text": [
      "/opt/conda/lib/python3.7/site-packages/ipykernel_launcher.py:12: DeprecationWarning: Call to deprecated function all (This object can be treated as a dictionary).\n",
      "  if sys.path[0] == \"\":\n"
     ]
    },
    {
     "name": "stdout",
     "output_type": "stream",
     "text": [
      "Finished 72 of 449\n",
      "-------------------------------\n",
      "vAWS_2021_The_Total_Force_and_World_Wide_Engagement.txt\n"
     ]
    },
    {
     "name": "stderr",
     "output_type": "stream",
     "text": [
      "/opt/conda/lib/python3.7/site-packages/ipykernel_launcher.py:12: DeprecationWarning: Call to deprecated function all (This object can be treated as a dictionary).\n",
      "  if sys.path[0] == \"\":\n"
     ]
    },
    {
     "name": "stdout",
     "output_type": "stream",
     "text": [
      "Finished 73 of 449\n",
      "-------------------------------\n",
      "Air_Force_QDR.txt\n"
     ]
    },
    {
     "name": "stderr",
     "output_type": "stream",
     "text": [
      "/opt/conda/lib/python3.7/site-packages/ipykernel_launcher.py:12: DeprecationWarning: Call to deprecated function all (This object can be treated as a dictionary).\n",
      "  if sys.path[0] == \"\":\n"
     ]
    },
    {
     "name": "stdout",
     "output_type": "stream",
     "text": [
      "Finished 74 of 449\n",
      "-------------------------------\n",
      "AFA_s_Air_Space_Cyber_Keynote_Address_Guardians_of_Tomorrow.txt\n"
     ]
    },
    {
     "name": "stderr",
     "output_type": "stream",
     "text": [
      "/opt/conda/lib/python3.7/site-packages/ipykernel_launcher.py:12: DeprecationWarning: Call to deprecated function all (This object can be treated as a dictionary).\n",
      "  if sys.path[0] == \"\":\n"
     ]
    },
    {
     "name": "stdout",
     "output_type": "stream",
     "text": [
      "Finished 75 of 449\n",
      "-------------------------------\n",
      "vAWS_2021_CSAF_Fireside_Chat_with_Mackenzie_Eaglen.txt\n"
     ]
    },
    {
     "name": "stderr",
     "output_type": "stream",
     "text": [
      "/opt/conda/lib/python3.7/site-packages/ipykernel_launcher.py:12: DeprecationWarning: Call to deprecated function all (This object can be treated as a dictionary).\n",
      "  if sys.path[0] == \"\":\n"
     ]
    },
    {
     "name": "stdout",
     "output_type": "stream",
     "text": [
      "Finished 76 of 449\n",
      "-------------------------------\n",
      "2019_Air_Space_Cyber_Conference_Panel_The_Threat_and_the_Strategy.txt\n"
     ]
    },
    {
     "name": "stderr",
     "output_type": "stream",
     "text": [
      "/opt/conda/lib/python3.7/site-packages/ipykernel_launcher.py:12: DeprecationWarning: Call to deprecated function all (This object can be treated as a dictionary).\n",
      "  if sys.path[0] == \"\":\n"
     ]
    },
    {
     "name": "stdout",
     "output_type": "stream",
     "text": [
      "Finished 77 of 449\n",
      "-------------------------------\n",
      "2022_AFA_Warfare_Symposium_Cyber_Operations_and_the_Joint_Fight.txt\n"
     ]
    },
    {
     "name": "stderr",
     "output_type": "stream",
     "text": [
      "/opt/conda/lib/python3.7/site-packages/ipykernel_launcher.py:12: DeprecationWarning: Call to deprecated function all (This object can be treated as a dictionary).\n",
      "  if sys.path[0] == \"\":\n"
     ]
    },
    {
     "name": "stdout",
     "output_type": "stream",
     "text": [
      "Finished 78 of 449\n",
      "-------------------------------\n",
      "Mission_Capability_Area_Logistics_Sustainment_Support_at_AFA_s_2021_Air_Space_Cyber_Conference.txt\n"
     ]
    },
    {
     "name": "stderr",
     "output_type": "stream",
     "text": [
      "/opt/conda/lib/python3.7/site-packages/ipykernel_launcher.py:12: DeprecationWarning: Call to deprecated function all (This object can be treated as a dictionary).\n",
      "  if sys.path[0] == \"\":\n"
     ]
    },
    {
     "name": "stdout",
     "output_type": "stream",
     "text": [
      "Finished 79 of 449\n",
      "-------------------------------\n",
      "Mark_Cuban.txt\n"
     ]
    },
    {
     "name": "stderr",
     "output_type": "stream",
     "text": [
      "/opt/conda/lib/python3.7/site-packages/ipykernel_launcher.py:12: DeprecationWarning: Call to deprecated function all (This object can be treated as a dictionary).\n",
      "  if sys.path[0] == \"\":\n"
     ]
    },
    {
     "name": "stdout",
     "output_type": "stream",
     "text": [
      "Finished 80 of 449\n",
      "-------------------------------\n",
      "vAWS_2021_Aerospace_Power_in_the_Central_Command_Area_of_Responsibility.txt\n"
     ]
    },
    {
     "name": "stderr",
     "output_type": "stream",
     "text": [
      "/opt/conda/lib/python3.7/site-packages/ipykernel_launcher.py:12: DeprecationWarning: Call to deprecated function all (This object can be treated as a dictionary).\n",
      "  if sys.path[0] == \"\":\n"
     ]
    },
    {
     "name": "stdout",
     "output_type": "stream",
     "text": [
      "Finished 81 of 449\n",
      "-------------------------------\n",
      "AFA_s_vASC_2020_Strategic_Plan_for_Personnel_and_Readiness.txt\n"
     ]
    },
    {
     "name": "stderr",
     "output_type": "stream",
     "text": [
      "/opt/conda/lib/python3.7/site-packages/ipykernel_launcher.py:12: DeprecationWarning: Call to deprecated function all (This object can be treated as a dictionary).\n",
      "  if sys.path[0] == \"\":\n"
     ]
    },
    {
     "name": "stdout",
     "output_type": "stream",
     "text": [
      "Finished 82 of 449\n",
      "-------------------------------\n",
      "AFA_s_Air_Space_Cyber_The_Art_of_the_Startup_Creating_Something_from_Nothing.txt\n"
     ]
    },
    {
     "name": "stderr",
     "output_type": "stream",
     "text": [
      "/opt/conda/lib/python3.7/site-packages/ipykernel_launcher.py:12: DeprecationWarning: Call to deprecated function all (This object can be treated as a dictionary).\n",
      "  if sys.path[0] == \"\":\n"
     ]
    },
    {
     "name": "stdout",
     "output_type": "stream",
     "text": [
      "Finished 83 of 449\n",
      "-------------------------------\n",
      "AFA_s_Air_Space_Cyber_Building_Capacity_Today_While_Innovating_Capabilities_for_Tomorrow.txt\n"
     ]
    },
    {
     "name": "stderr",
     "output_type": "stream",
     "text": [
      "/opt/conda/lib/python3.7/site-packages/ipykernel_launcher.py:12: DeprecationWarning: Call to deprecated function all (This object can be treated as a dictionary).\n",
      "  if sys.path[0] == \"\":\n"
     ]
    },
    {
     "name": "stdout",
     "output_type": "stream",
     "text": [
      "Finished 84 of 449\n",
      "-------------------------------\n",
      "AFA_s_vASC_2020_Industry_Perspectives_How_to_Align_Private_Sector_with_Requirements_of_the_USSF.txt\n"
     ]
    },
    {
     "name": "stderr",
     "output_type": "stream",
     "text": [
      "/opt/conda/lib/python3.7/site-packages/ipykernel_launcher.py:12: DeprecationWarning: Call to deprecated function all (This object can be treated as a dictionary).\n",
      "  if sys.path[0] == \"\":\n"
     ]
    },
    {
     "name": "stdout",
     "output_type": "stream",
     "text": [
      "Finished 85 of 449\n",
      "-------------------------------\n",
      "2022_AFA_Warfare_Symposium_Long_Range_Precision_Strike.txt\n"
     ]
    },
    {
     "name": "stderr",
     "output_type": "stream",
     "text": [
      "/opt/conda/lib/python3.7/site-packages/ipykernel_launcher.py:12: DeprecationWarning: Call to deprecated function all (This object can be treated as a dictionary).\n",
      "  if sys.path[0] == \"\":\n"
     ]
    },
    {
     "name": "stdout",
     "output_type": "stream",
     "text": [
      "Finished 86 of 449\n",
      "-------------------------------\n",
      "vAWS_2021_Mission_Domain_Live_Engagement_Hypersonics.txt\n"
     ]
    },
    {
     "name": "stderr",
     "output_type": "stream",
     "text": [
      "/opt/conda/lib/python3.7/site-packages/ipykernel_launcher.py:12: DeprecationWarning: Call to deprecated function all (This object can be treated as a dictionary).\n",
      "  if sys.path[0] == \"\":\n"
     ]
    },
    {
     "name": "stdout",
     "output_type": "stream",
     "text": [
      "Finished 87 of 449\n",
      "-------------------------------\n",
      "AFA_s_Air_Space_Cyber_Spirit_of_Space_Power.txt\n"
     ]
    },
    {
     "name": "stderr",
     "output_type": "stream",
     "text": [
      "/opt/conda/lib/python3.7/site-packages/ipykernel_launcher.py:12: DeprecationWarning: Call to deprecated function all (This object can be treated as a dictionary).\n",
      "  if sys.path[0] == \"\":\n"
     ]
    },
    {
     "name": "stdout",
     "output_type": "stream",
     "text": [
      "Finished 88 of 449\n",
      "-------------------------------\n",
      "2022_AFA_Warfare_Symposium_Warfighter_Requirements_to_Operational_Capability.txt\n"
     ]
    },
    {
     "name": "stderr",
     "output_type": "stream",
     "text": [
      "/opt/conda/lib/python3.7/site-packages/ipykernel_launcher.py:12: DeprecationWarning: Call to deprecated function all (This object can be treated as a dictionary).\n",
      "  if sys.path[0] == \"\":\n"
     ]
    },
    {
     "name": "stdout",
     "output_type": "stream",
     "text": [
      "Finished 89 of 449\n",
      "-------------------------------\n",
      "Air_Space_Warfighters_in_Action_with_AFSOC_Commander_Lt_Gen_Slife.txt\n"
     ]
    },
    {
     "name": "stderr",
     "output_type": "stream",
     "text": [
      "/opt/conda/lib/python3.7/site-packages/ipykernel_launcher.py:12: DeprecationWarning: Call to deprecated function all (This object can be treated as a dictionary).\n",
      "  if sys.path[0] == \"\":\n"
     ]
    },
    {
     "name": "stdout",
     "output_type": "stream",
     "text": [
      "Finished 90 of 449\n",
      "-------------------------------\n",
      "AFA_s_Air_Space_Cyber_Space_Operations_Today_Tomorrow.txt\n"
     ]
    },
    {
     "name": "stderr",
     "output_type": "stream",
     "text": [
      "/opt/conda/lib/python3.7/site-packages/ipykernel_launcher.py:12: DeprecationWarning: Call to deprecated function all (This object can be treated as a dictionary).\n",
      "  if sys.path[0] == \"\":\n"
     ]
    },
    {
     "name": "stdout",
     "output_type": "stream",
     "text": [
      "Finished 91 of 449\n",
      "-------------------------------\n",
      "AFA_s_Air_Space_Cyber_The_Reality_of_Space_as_a_Warfighting_Domain.txt\n"
     ]
    },
    {
     "name": "stderr",
     "output_type": "stream",
     "text": [
      "/opt/conda/lib/python3.7/site-packages/ipykernel_launcher.py:12: DeprecationWarning: Call to deprecated function all (This object can be treated as a dictionary).\n",
      "  if sys.path[0] == \"\":\n"
     ]
    },
    {
     "name": "stdout",
     "output_type": "stream",
     "text": [
      "Finished 92 of 449\n",
      "-------------------------------\n",
      "2022_AFA_Warfare_Symposium_Space_Superiority.txt\n"
     ]
    },
    {
     "name": "stderr",
     "output_type": "stream",
     "text": [
      "/opt/conda/lib/python3.7/site-packages/ipykernel_launcher.py:12: DeprecationWarning: Call to deprecated function all (This object can be treated as a dictionary).\n",
      "  if sys.path[0] == \"\":\n"
     ]
    },
    {
     "name": "stdout",
     "output_type": "stream",
     "text": [
      "Finished 93 of 449\n",
      "-------------------------------\n",
      "vASW_2021_Mission_Domain_Live_Engagement_JADC2_ABMS_Thursday_.txt\n"
     ]
    },
    {
     "name": "stderr",
     "output_type": "stream",
     "text": [
      "/opt/conda/lib/python3.7/site-packages/ipykernel_launcher.py:12: DeprecationWarning: Call to deprecated function all (This object can be treated as a dictionary).\n",
      "  if sys.path[0] == \"\":\n"
     ]
    },
    {
     "name": "stdout",
     "output_type": "stream",
     "text": [
      "Finished 94 of 449\n",
      "-------------------------------\n",
      "vAWS_2021_USSF_s_Deltas_Commanders_In_Action.txt\n"
     ]
    },
    {
     "name": "stderr",
     "output_type": "stream",
     "text": [
      "/opt/conda/lib/python3.7/site-packages/ipykernel_launcher.py:12: DeprecationWarning: Call to deprecated function all (This object can be treated as a dictionary).\n",
      "  if sys.path[0] == \"\":\n"
     ]
    },
    {
     "name": "stdout",
     "output_type": "stream",
     "text": [
      "Finished 95 of 449\n",
      "-------------------------------\n",
      "AFA_s_vASC_2020_Secretary_of_Defense_Dr_Mark_T_Esper.txt\n"
     ]
    },
    {
     "name": "stderr",
     "output_type": "stream",
     "text": [
      "/opt/conda/lib/python3.7/site-packages/ipykernel_launcher.py:12: DeprecationWarning: Call to deprecated function all (This object can be treated as a dictionary).\n",
      "  if sys.path[0] == \"\":\n"
     ]
    },
    {
     "name": "stdout",
     "output_type": "stream",
     "text": [
      "Finished 96 of 449\n",
      "-------------------------------\n",
      "vAWS_2021_Mission_Domain_Live_Engagement_Strategic_Deterrence.txt\n"
     ]
    },
    {
     "name": "stderr",
     "output_type": "stream",
     "text": [
      "/opt/conda/lib/python3.7/site-packages/ipykernel_launcher.py:12: DeprecationWarning: Call to deprecated function all (This object can be treated as a dictionary).\n",
      "  if sys.path[0] == \"\":\n"
     ]
    },
    {
     "name": "stdout",
     "output_type": "stream",
     "text": [
      "Finished 97 of 449\n",
      "-------------------------------\n",
      "Mission_Capability_Area_Networks_5G_Cyber_Operations_Cybersecurity_at_AFA_s_2021_ASC.txt\n"
     ]
    },
    {
     "name": "stderr",
     "output_type": "stream",
     "text": [
      "/opt/conda/lib/python3.7/site-packages/ipykernel_launcher.py:12: DeprecationWarning: Call to deprecated function all (This object can be treated as a dictionary).\n",
      "  if sys.path[0] == \"\":\n"
     ]
    },
    {
     "name": "stdout",
     "output_type": "stream",
     "text": [
      "Finished 98 of 449\n",
      "-------------------------------\n",
      "AFA_s_Air_Space_Cyber_ISR_Remote_Sensing.txt\n"
     ]
    },
    {
     "name": "stderr",
     "output_type": "stream",
     "text": [
      "/opt/conda/lib/python3.7/site-packages/ipykernel_launcher.py:12: DeprecationWarning: Call to deprecated function all (This object can be treated as a dictionary).\n",
      "  if sys.path[0] == \"\":\n"
     ]
    },
    {
     "name": "stdout",
     "output_type": "stream",
     "text": [
      "Finished 99 of 449\n",
      "-------------------------------\n",
      "Empowering_Military_Spouses.txt\n"
     ]
    },
    {
     "name": "stderr",
     "output_type": "stream",
     "text": [
      "/opt/conda/lib/python3.7/site-packages/ipykernel_launcher.py:12: DeprecationWarning: Call to deprecated function all (This object can be treated as a dictionary).\n",
      "  if sys.path[0] == \"\":\n"
     ]
    },
    {
     "name": "stdout",
     "output_type": "stream",
     "text": [
      "Finished 100 of 449\n",
      "-------------------------------\n",
      "2022_AFA_Warfare_Symposium_Guard_Reserve_Ready_and_Willing.txt\n"
     ]
    },
    {
     "name": "stderr",
     "output_type": "stream",
     "text": [
      "/opt/conda/lib/python3.7/site-packages/ipykernel_launcher.py:12: DeprecationWarning: Call to deprecated function all (This object can be treated as a dictionary).\n",
      "  if sys.path[0] == \"\":\n"
     ]
    },
    {
     "name": "stdout",
     "output_type": "stream",
     "text": [
      "Finished 101 of 449\n",
      "-------------------------------\n",
      "AFA_s_Air_Space_Cyber_Creating_the_JADC2_Architecture.txt\n"
     ]
    },
    {
     "name": "stderr",
     "output_type": "stream",
     "text": [
      "/opt/conda/lib/python3.7/site-packages/ipykernel_launcher.py:12: DeprecationWarning: Call to deprecated function all (This object can be treated as a dictionary).\n",
      "  if sys.path[0] == \"\":\n"
     ]
    },
    {
     "name": "stdout",
     "output_type": "stream",
     "text": [
      "Finished 102 of 449\n",
      "-------------------------------\n",
      "Air_Force_Association_Opening_Awards_Ceremonies.txt\n"
     ]
    },
    {
     "name": "stderr",
     "output_type": "stream",
     "text": [
      "/opt/conda/lib/python3.7/site-packages/ipykernel_launcher.py:12: DeprecationWarning: Call to deprecated function all (This object can be treated as a dictionary).\n",
      "  if sys.path[0] == \"\":\n"
     ]
    },
    {
     "name": "stdout",
     "output_type": "stream",
     "text": [
      "Finished 103 of 449\n",
      "-------------------------------\n",
      "AFA_s_vASC_2020_An_Effects_Based_Approach_to_Force_Structure_Decisions.txt\n"
     ]
    },
    {
     "name": "stderr",
     "output_type": "stream",
     "text": [
      "/opt/conda/lib/python3.7/site-packages/ipykernel_launcher.py:12: DeprecationWarning: Call to deprecated function all (This object can be treated as a dictionary).\n",
      "  if sys.path[0] == \"\":\n"
     ]
    },
    {
     "name": "stdout",
     "output_type": "stream",
     "text": [
      "Finished 104 of 449\n",
      "-------------------------------\n",
      "vAWS_2021_Leading_the_Airmen_of_Today.txt\n"
     ]
    },
    {
     "name": "stderr",
     "output_type": "stream",
     "text": [
      "/opt/conda/lib/python3.7/site-packages/ipykernel_launcher.py:12: DeprecationWarning: Call to deprecated function all (This object can be treated as a dictionary).\n",
      "  if sys.path[0] == \"\":\n"
     ]
    },
    {
     "name": "stdout",
     "output_type": "stream",
     "text": [
      "Finished 105 of 449\n",
      "-------------------------------\n",
      "Air_Space_Cyber_Conference_Acting_Secretary_of_the_Air_Force_Matthew_Donovan.txt\n"
     ]
    },
    {
     "name": "stderr",
     "output_type": "stream",
     "text": [
      "/opt/conda/lib/python3.7/site-packages/ipykernel_launcher.py:12: DeprecationWarning: Call to deprecated function all (This object can be treated as a dictionary).\n",
      "  if sys.path[0] == \"\":\n"
     ]
    },
    {
     "name": "stdout",
     "output_type": "stream",
     "text": [
      "Finished 106 of 449\n",
      "-------------------------------\n",
      "Mission_Capability_Area_Electromagnetic_Warfare_at_AFA_s_2021_Air_Space_Cyber_Conference.txt\n"
     ]
    },
    {
     "name": "stderr",
     "output_type": "stream",
     "text": [
      "/opt/conda/lib/python3.7/site-packages/ipykernel_launcher.py:12: DeprecationWarning: Call to deprecated function all (This object can be treated as a dictionary).\n",
      "  if sys.path[0] == \"\":\n"
     ]
    },
    {
     "name": "stdout",
     "output_type": "stream",
     "text": [
      "Finished 107 of 449\n",
      "-------------------------------\n",
      "Elon_Musk_and_Lt_Gen_John_F_Thompson.txt\n"
     ]
    },
    {
     "name": "stderr",
     "output_type": "stream",
     "text": [
      "/opt/conda/lib/python3.7/site-packages/ipykernel_launcher.py:12: DeprecationWarning: Call to deprecated function all (This object can be treated as a dictionary).\n",
      "  if sys.path[0] == \"\":\n"
     ]
    }
   ],
   "source": [
    "for idx in range(len(df)):\n",
    "    url = df.VID_URL.iloc[idx]\n",
    "    text = get_subs(url)\n",
    "    df_temp = pd.DataFrame(data={'TEXT': [text], 'VID_URL':url})\n",
    "    df_main_text =  df_main_text.append(df_temp).reset_index(drop=True)\n",
    "    sleep(11/3)\n",
    "    print(f'Finished {idx + 1} of {len(df.VID_URL)}')\n",
    "    print('-------------------------------')"
   ]
  },
  {
   "cell_type": "code",
   "execution_count": null,
   "id": "c8ebe3b3-24ff-41da-8d3e-cf42a3fc5b14",
   "metadata": {},
   "outputs": [],
   "source": []
  },
  {
   "cell_type": "code",
   "execution_count": null,
   "id": "7f884c03-df34-4685-9e43-d329c9f94c86",
   "metadata": {},
   "outputs": [],
   "source": [
    "df_main_text"
   ]
  },
  {
   "cell_type": "markdown",
   "id": "0f2d068f-697f-48d9-a11e-3f4c3a32b197",
   "metadata": {},
   "source": [
    "# Save Output DataFrame"
   ]
  },
  {
   "cell_type": "code",
   "execution_count": null,
   "id": "df2c0c3c",
   "metadata": {},
   "outputs": [],
   "source": [
    "#df_main_text.to_pickle('AUTO_GEN_EN_IATA_LONG_Transcripts.pkl', protocol=4)\n",
    "df_main_text.to_pickle('air_power_symposium_cc.pkl', protocol=4)"
   ]
  },
  {
   "cell_type": "code",
   "execution_count": null,
   "id": "b2cb6b13",
   "metadata": {},
   "outputs": [],
   "source": [
    "df"
   ]
  },
  {
   "cell_type": "code",
   "execution_count": null,
   "id": "7738651e",
   "metadata": {},
   "outputs": [],
   "source": [
    "#df_main_text.to_csv('AUTO_GEN_EN_IATA_LONG_Transcripts.csv', encoding='utf-8', index=False)\n",
    "df_main_text.to_csv('air_power_symposium_cc.csv', encoding='utf-8', index=False)"
   ]
  },
  {
   "cell_type": "markdown",
   "id": "635b2896-a819-49e5-8132-d1f86f82cdfe",
   "metadata": {},
   "source": [
    "# Check Saving Success"
   ]
  },
  {
   "cell_type": "code",
   "execution_count": null,
   "id": "c8b619fd",
   "metadata": {},
   "outputs": [],
   "source": [
    "test = pd.read_pickle('air_power_symposium_cc.pkl')"
   ]
  },
  {
   "cell_type": "code",
   "execution_count": null,
   "id": "3691e8a8-3022-4993-981f-8f550d572aec",
   "metadata": {},
   "outputs": [],
   "source": [
    "test"
   ]
  },
  {
   "cell_type": "code",
   "execution_count": null,
   "id": "897fc499-0533-465e-941c-32877e207129",
   "metadata": {},
   "outputs": [],
   "source": []
  },
  {
   "cell_type": "code",
   "execution_count": null,
   "id": "9555b7ee-f05e-412b-8b56-8cb270429d91",
   "metadata": {},
   "outputs": [],
   "source": []
  },
  {
   "cell_type": "code",
   "execution_count": null,
   "id": "d424e265-8cce-4b51-b356-26f371295f66",
   "metadata": {},
   "outputs": [],
   "source": []
  }
 ],
 "metadata": {
  "environment": {
   "kernel": "python3",
   "name": "common-cpu.m98",
   "type": "gcloud",
   "uri": "gcr.io/deeplearning-platform-release/base-cpu:m98"
  },
  "kernelspec": {
   "display_name": "Python 3",
   "language": "python",
   "name": "python3"
  },
  "language_info": {
   "codemirror_mode": {
    "name": "ipython",
    "version": 3
   },
   "file_extension": ".py",
   "mimetype": "text/x-python",
   "name": "python",
   "nbconvert_exporter": "python",
   "pygments_lexer": "ipython3",
   "version": "3.7.12"
  }
 },
 "nbformat": 4,
 "nbformat_minor": 5
}
